{
 "cells": [
  {
   "cell_type": "markdown",
   "id": "2665e25e-9cde-4181-8224-fe4b6a2478d7",
   "metadata": {},
   "source": [
    "## CUSTOMER SEGMENTATION WITH K-NEAREST NEIGHBOUR (KNN)"
   ]
  },
  {
   "cell_type": "markdown",
   "id": "d9388b08-372f-4dd3-860e-2e124afd5e23",
   "metadata": {},
   "source": [
    "#### **ABSTRACT**\n",
    "One of the roadmaps for a successful company is a customer centric experience. In building an excellent customer experience it is important to know what every customer needs through the available information, insights as well as feedbacks collated over the years of business. A proper analysis of these outputs will give the Customer segregation which is a vast array of different customers and their varying needs promoting an efficient service delivery instead of an individual approach which would be cumbersome as well as not cost effective.<br>\n",
    "In this project, we combine two data sets using the KNN classification algorithm to segment our customers into groups and test our model for accuracy \n"
   ]
  },
  {
   "cell_type": "markdown",
   "id": "a65bf935-3649-4023-a953-ebc9a16603e2",
   "metadata": {},
   "source": [
    "## INTRODUCTION\n",
    "\n",
    "Customer segmentation is the process of dividing your clients into segments based on similar characteristics. This is done using specific variables such as demographics like age, race, and sex; behavioral, psychographic, geographical data, etc.\n",
    "When customers are segmented, it helps identify needs as it relates to each segment and deliver the appropriate messages across. It also minimizes risk by figuring out which products are the most likely to earn a share of a target market and the best ways to market and deliver those products to the market \n",
    "A combination of two data sets using the KNN classification algorithm will test our model and predict future expectations for each segment\n"
   ]
  },
  {
   "cell_type": "markdown",
   "id": "5e5faf49-8f81-431c-9bfb-a31e6c48b94c",
   "metadata": {},
   "source": [
    "#### DATASET\n",
    "The Dataset used for this project was gotten from Kaggle [here](https://www.kaggle.com/datasets/abisheksudarshan/customer-segmentation?select=train.csv). The dataset is titled 'Customer Segmentation'. It shows multiclass classification of an automobile company with plans to enter new markets with their existing products (P1, P2, P3, P4 and P5). The data set have identified 2627 new potential customers."
   ]
  },
  {
   "cell_type": "code",
   "execution_count": 1,
   "id": "8057ae73-96e7-48a4-8114-6fa3f92d1f47",
   "metadata": {},
   "outputs": [
    {
     "ename": "ModuleNotFoundError",
     "evalue": "No module named 'numpy'",
     "output_type": "error",
     "traceback": [
      "\u001b[1;31m---------------------------------------------------------------------------\u001b[0m",
      "\u001b[1;31mModuleNotFoundError\u001b[0m                       Traceback (most recent call last)",
      "Input \u001b[1;32mIn [1]\u001b[0m, in \u001b[0;36m<cell line: 2>\u001b[1;34m()\u001b[0m\n\u001b[0;32m      1\u001b[0m \u001b[38;5;66;03m#importing libraries\u001b[39;00m\n\u001b[1;32m----> 2\u001b[0m \u001b[38;5;28;01mimport\u001b[39;00m \u001b[38;5;21;01mnumpy\u001b[39;00m \u001b[38;5;28;01mas\u001b[39;00m \u001b[38;5;21;01mnp\u001b[39;00m\n\u001b[0;32m      3\u001b[0m \u001b[38;5;28;01mimport\u001b[39;00m \u001b[38;5;21;01mpandas\u001b[39;00m \u001b[38;5;28;01mas\u001b[39;00m \u001b[38;5;21;01mpd\u001b[39;00m\n\u001b[0;32m      4\u001b[0m \u001b[38;5;28;01mimport\u001b[39;00m \u001b[38;5;21;01mmatplotlib\u001b[39;00m\u001b[38;5;21;01m.\u001b[39;00m\u001b[38;5;21;01mpyplot\u001b[39;00m \u001b[38;5;28;01mas\u001b[39;00m \u001b[38;5;21;01mplt\u001b[39;00m\n",
      "\u001b[1;31mModuleNotFoundError\u001b[0m: No module named 'numpy'"
     ]
    }
   ],
   "source": [
    "#importing libraries\n",
    "import numpy as np\n",
    "import pandas as pd\n",
    "import matplotlib.pyplot as plt\n",
    "%matplotlib inline"
   ]
  },
  {
   "cell_type": "code",
   "execution_count": null,
   "id": "d4a16995-aeb4-4589-a84c-7c33a7a0da41",
   "metadata": {},
   "outputs": [],
   "source": []
  }
 ],
 "metadata": {
  "kernelspec": {
   "display_name": "Python 3 (ipykernel)",
   "language": "python",
   "name": "python3"
  },
  "language_info": {
   "codemirror_mode": {
    "name": "ipython",
    "version": 3
   },
   "file_extension": ".py",
   "mimetype": "text/x-python",
   "name": "python",
   "nbconvert_exporter": "python",
   "pygments_lexer": "ipython3",
   "version": "3.10.6"
  }
 },
 "nbformat": 4,
 "nbformat_minor": 5
}
