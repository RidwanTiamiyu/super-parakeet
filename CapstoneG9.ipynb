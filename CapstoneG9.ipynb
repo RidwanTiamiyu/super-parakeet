{
 "cells": [
  {
   "cell_type": "markdown",
   "id": "2665e25e-9cde-4181-8224-fe4b6a2478d7",
   "metadata": {},
   "source": [
    "## CUSTOMER SEGMENTATION WITH K-NEAREST NEIGHBOUR (KNN)"
   ]
  },
  {
   "cell_type": "markdown",
   "id": "d9388b08-372f-4dd3-860e-2e124afd5e23",
   "metadata": {},
   "source": [
    "#### **ABSTRACT**\n",
    "One of the roadmaps for a successful company is a customer centric experience. In building an excellent customer experience it is important to know what every customer needs through the available information, insights as well as feedbacks collated over the years of business. A proper analysis of these outputs will give the Customer segregation which is a vast array of different customers and their varying needs promoting an efficient service delivery instead of an individual approach which would be cumbersome as well as not cost effective.<br>\n",
    "In this project, we combine two data sets using the KNN classification algorithm to segment our customers into groups and test our model for accuracy \n"
   ]
  },
  {
   "cell_type": "code",
   "execution_count": null,
   "id": "d8e09c2d-92df-4102-bad3-3774e023f07f",
   "metadata": {},
   "outputs": [],
   "source": []
  }
 ],
 "metadata": {
  "kernelspec": {
   "display_name": "Python 3 (ipykernel)",
   "language": "python",
   "name": "python3"
  },
  "language_info": {
   "codemirror_mode": {
    "name": "ipython",
    "version": 3
   },
   "file_extension": ".py",
   "mimetype": "text/x-python",
   "name": "python",
   "nbconvert_exporter": "python",
   "pygments_lexer": "ipython3",
   "version": "3.9.12"
  }
 },
 "nbformat": 4,
 "nbformat_minor": 5
}
